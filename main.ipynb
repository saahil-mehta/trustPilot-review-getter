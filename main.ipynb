{
 "cells": [
  {
   "cell_type": "code",
   "execution_count": 1,
   "id": "93ee86cf",
   "metadata": {
    "ExecuteTime": {
     "end_time": "2023-08-02T14:37:31.867128Z",
     "start_time": "2023-08-02T14:37:31.863202Z"
    }
   },
   "outputs": [],
   "source": [
    "from trustpilotFetch import fetch_reviews"
   ]
  },
  {
   "cell_type": "code",
   "execution_count": 2,
   "id": "a41e5a49",
   "metadata": {
    "ExecuteTime": {
     "end_time": "2023-08-02T14:37:45.259960Z",
     "start_time": "2023-08-02T14:37:44.503809Z"
    }
   },
   "outputs": [],
   "source": [
    "brand = \"www.mojainsurance.co.uk\"\n",
    "pages_to_fetch = 5\n",
    "data = fetch_reviews(brand, pages_to_fetch)"
   ]
  },
  {
   "cell_type": "code",
   "execution_count": 5,
   "id": "d89f5753",
   "metadata": {
    "ExecuteTime": {
     "end_time": "2023-08-02T14:41:21.786463Z",
     "start_time": "2023-08-02T14:41:21.751039Z"
    }
   },
   "outputs": [
    {
     "data": {
      "text/html": [
       "<div>\n",
       "<style scoped>\n",
       "    .dataframe tbody tr th:only-of-type {\n",
       "        vertical-align: middle;\n",
       "    }\n",
       "\n",
       "    .dataframe tbody tr th {\n",
       "        vertical-align: top;\n",
       "    }\n",
       "\n",
       "    .dataframe thead th {\n",
       "        text-align: right;\n",
       "    }\n",
       "</style>\n",
       "<table border=\"1\" class=\"dataframe\">\n",
       "  <thead>\n",
       "    <tr style=\"text-align: right;\">\n",
       "      <th></th>\n",
       "      <th>id</th>\n",
       "      <th>itemReviewed</th>\n",
       "      <th>author</th>\n",
       "      <th>datePublished</th>\n",
       "      <th>headline</th>\n",
       "      <th>reviewBody</th>\n",
       "      <th>reviewRating</th>\n",
       "    </tr>\n",
       "  </thead>\n",
       "  <tbody>\n",
       "    <tr>\n",
       "      <th>0</th>\n",
       "      <td>https://www.trustpilot.com/#/schema/Review/www...</td>\n",
       "      <td>https://www.trustpilot.com/#/schema/Organizati...</td>\n",
       "      <td>spectre20_0</td>\n",
       "      <td>2023-08-02T10:25:17.000Z</td>\n",
       "      <td>Went onto a price comparison site</td>\n",
       "      <td>Went onto a price comparison site, and Moja wa...</td>\n",
       "      <td>5</td>\n",
       "    </tr>\n",
       "    <tr>\n",
       "      <th>1</th>\n",
       "      <td>https://www.trustpilot.com/#/schema/Review/www...</td>\n",
       "      <td>https://www.trustpilot.com/#/schema/Organizati...</td>\n",
       "      <td>Peter Dav</td>\n",
       "      <td>2023-08-01T18:41:02.000Z</td>\n",
       "      <td>During my experience applying for the…</td>\n",
       "      <td>During my experience applying for the policy, ...</td>\n",
       "      <td>4</td>\n",
       "    </tr>\n",
       "    <tr>\n",
       "      <th>2</th>\n",
       "      <td>https://www.trustpilot.com/#/schema/Review/www...</td>\n",
       "      <td>https://www.trustpilot.com/#/schema/Organizati...</td>\n",
       "      <td>Peter</td>\n",
       "      <td>2023-07-31T13:42:37.000Z</td>\n",
       "      <td>Took the insurance premium from my…</td>\n",
       "      <td>Took the insurance premium from my account wel...</td>\n",
       "      <td>3</td>\n",
       "    </tr>\n",
       "    <tr>\n",
       "      <th>3</th>\n",
       "      <td>https://www.trustpilot.com/#/schema/Review/www...</td>\n",
       "      <td>https://www.trustpilot.com/#/schema/Organizati...</td>\n",
       "      <td>Jason Lane</td>\n",
       "      <td>2023-08-01T13:29:04.000Z</td>\n",
       "      <td>Excellent insurance experience</td>\n",
       "      <td>Excellent insurance experience with the lowest...</td>\n",
       "      <td>5</td>\n",
       "    </tr>\n",
       "    <tr>\n",
       "      <th>4</th>\n",
       "      <td>https://www.trustpilot.com/#/schema/Review/www...</td>\n",
       "      <td>https://www.trustpilot.com/#/schema/Organizati...</td>\n",
       "      <td>Mike Stafford</td>\n",
       "      <td>2023-08-01T13:55:39.000Z</td>\n",
       "      <td>Uncomplicated!</td>\n",
       "      <td>Very easy, great communication and highly comp...</td>\n",
       "      <td>5</td>\n",
       "    </tr>\n",
       "    <tr>\n",
       "      <th>...</th>\n",
       "      <td>...</td>\n",
       "      <td>...</td>\n",
       "      <td>...</td>\n",
       "      <td>...</td>\n",
       "      <td>...</td>\n",
       "      <td>...</td>\n",
       "      <td>...</td>\n",
       "    </tr>\n",
       "    <tr>\n",
       "      <th>95</th>\n",
       "      <td>https://www.trustpilot.com/#/schema/Review/www...</td>\n",
       "      <td>https://www.trustpilot.com/#/schema/Organizati...</td>\n",
       "      <td>Gemma</td>\n",
       "      <td>2023-07-04T10:30:22.000Z</td>\n",
       "      <td>Straight forward</td>\n",
       "      <td>Straight forward, key info front and centre. N...</td>\n",
       "      <td>5</td>\n",
       "    </tr>\n",
       "    <tr>\n",
       "      <th>96</th>\n",
       "      <td>https://www.trustpilot.com/#/schema/Review/www...</td>\n",
       "      <td>https://www.trustpilot.com/#/schema/Organizati...</td>\n",
       "      <td>Ronald</td>\n",
       "      <td>2023-07-18T11:36:22.000Z</td>\n",
       "      <td>no problems with doing it on the…</td>\n",
       "      <td>no problems with doing it on the internet</td>\n",
       "      <td>5</td>\n",
       "    </tr>\n",
       "    <tr>\n",
       "      <th>97</th>\n",
       "      <td>https://www.trustpilot.com/#/schema/Review/www...</td>\n",
       "      <td>https://www.trustpilot.com/#/schema/Organizati...</td>\n",
       "      <td>Lee Cross</td>\n",
       "      <td>2023-06-30T15:01:32.000Z</td>\n",
       "      <td>It was very easy and quick to sort out…</td>\n",
       "      <td>It was very easy and quick to sort out instead...</td>\n",
       "      <td>5</td>\n",
       "    </tr>\n",
       "    <tr>\n",
       "      <th>98</th>\n",
       "      <td>https://www.trustpilot.com/#/schema/Review/www...</td>\n",
       "      <td>https://www.trustpilot.com/#/schema/Organizati...</td>\n",
       "      <td>Brenda</td>\n",
       "      <td>2023-07-07T12:40:01.000Z</td>\n",
       "      <td>Don't trust these cowboys</td>\n",
       "      <td>Don't trust these cowboys. Gave them my histor...</td>\n",
       "      <td>1</td>\n",
       "    </tr>\n",
       "    <tr>\n",
       "      <th>99</th>\n",
       "      <td>https://www.trustpilot.com/#/schema/Review/www...</td>\n",
       "      <td>https://www.trustpilot.com/#/schema/Organizati...</td>\n",
       "      <td>Alvin</td>\n",
       "      <td>2023-06-30T11:08:10.000Z</td>\n",
       "      <td>It was easy and hassle free renewing my…</td>\n",
       "      <td>It was easy and hassle free renewing my car in...</td>\n",
       "      <td>4</td>\n",
       "    </tr>\n",
       "  </tbody>\n",
       "</table>\n",
       "<p>100 rows × 7 columns</p>\n",
       "</div>"
      ],
      "text/plain": [
       "                                                   id  ... reviewRating\n",
       "0   https://www.trustpilot.com/#/schema/Review/www...  ...            5\n",
       "1   https://www.trustpilot.com/#/schema/Review/www...  ...            4\n",
       "2   https://www.trustpilot.com/#/schema/Review/www...  ...            3\n",
       "3   https://www.trustpilot.com/#/schema/Review/www...  ...            5\n",
       "4   https://www.trustpilot.com/#/schema/Review/www...  ...            5\n",
       "..                                                ...  ...          ...\n",
       "95  https://www.trustpilot.com/#/schema/Review/www...  ...            5\n",
       "96  https://www.trustpilot.com/#/schema/Review/www...  ...            5\n",
       "97  https://www.trustpilot.com/#/schema/Review/www...  ...            5\n",
       "98  https://www.trustpilot.com/#/schema/Review/www...  ...            1\n",
       "99  https://www.trustpilot.com/#/schema/Review/www...  ...            4\n",
       "\n",
       "[100 rows x 7 columns]"
      ]
     },
     "execution_count": 5,
     "metadata": {},
     "output_type": "execute_result"
    }
   ],
   "source": [
    "data"
   ]
  },
  {
   "cell_type": "code",
   "execution_count": null,
   "id": "de47f57d",
   "metadata": {},
   "outputs": [],
   "source": []
  }
 ],
 "metadata": {
  "kernelspec": {
   "display_name": "Python 3 (ipykernel)",
   "language": "python",
   "name": "python3"
  },
  "language_info": {
   "codemirror_mode": {
    "name": "ipython",
    "version": 3
   },
   "file_extension": ".py",
   "mimetype": "text/x-python",
   "name": "python",
   "nbconvert_exporter": "python",
   "pygments_lexer": "ipython3",
   "version": "3.9.12"
  }
 },
 "nbformat": 4,
 "nbformat_minor": 5
}
